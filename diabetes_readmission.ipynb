{
 "cells": [
  {
   "cell_type": "code",
   "execution_count": 1,
   "id": "7a2f74c2-a930-48d6-9151-aba097e28cd7",
   "metadata": {},
   "outputs": [],
   "source": [
    "import pandas as pd\n",
    "import numpy as np"
   ]
  },
  {
   "cell_type": "code",
   "execution_count": 2,
   "id": "d989c128-af4a-4481-bb62-8a7fbc6e96ee",
   "metadata": {},
   "outputs": [
    {
     "data": {
      "text/html": [
       "<div>\n",
       "<style scoped>\n",
       "    .dataframe tbody tr th:only-of-type {\n",
       "        vertical-align: middle;\n",
       "    }\n",
       "\n",
       "    .dataframe tbody tr th {\n",
       "        vertical-align: top;\n",
       "    }\n",
       "\n",
       "    .dataframe thead th {\n",
       "        text-align: right;\n",
       "    }\n",
       "</style>\n",
       "<table border=\"1\" class=\"dataframe\">\n",
       "  <thead>\n",
       "    <tr style=\"text-align: right;\">\n",
       "      <th></th>\n",
       "      <th>encounter_id</th>\n",
       "      <th>patient_nbr</th>\n",
       "      <th>race</th>\n",
       "      <th>gender</th>\n",
       "      <th>age</th>\n",
       "      <th>weight</th>\n",
       "      <th>admission_type_id</th>\n",
       "      <th>discharge_disposition_id</th>\n",
       "      <th>admission_source_id</th>\n",
       "      <th>time_in_hospital</th>\n",
       "      <th>...</th>\n",
       "      <th>citoglipton</th>\n",
       "      <th>insulin</th>\n",
       "      <th>glyburide-metformin</th>\n",
       "      <th>glipizide-metformin</th>\n",
       "      <th>glimepiride-pioglitazone</th>\n",
       "      <th>metformin-rosiglitazone</th>\n",
       "      <th>metformin-pioglitazone</th>\n",
       "      <th>change</th>\n",
       "      <th>diabetesMed</th>\n",
       "      <th>readmitted</th>\n",
       "    </tr>\n",
       "  </thead>\n",
       "  <tbody>\n",
       "    <tr>\n",
       "      <th>0</th>\n",
       "      <td>2278392</td>\n",
       "      <td>8222157</td>\n",
       "      <td>Caucasian</td>\n",
       "      <td>Female</td>\n",
       "      <td>[0-10)</td>\n",
       "      <td>?</td>\n",
       "      <td>6</td>\n",
       "      <td>25</td>\n",
       "      <td>1</td>\n",
       "      <td>1</td>\n",
       "      <td>...</td>\n",
       "      <td>No</td>\n",
       "      <td>No</td>\n",
       "      <td>No</td>\n",
       "      <td>No</td>\n",
       "      <td>No</td>\n",
       "      <td>No</td>\n",
       "      <td>No</td>\n",
       "      <td>No</td>\n",
       "      <td>No</td>\n",
       "      <td>NO</td>\n",
       "    </tr>\n",
       "    <tr>\n",
       "      <th>1</th>\n",
       "      <td>149190</td>\n",
       "      <td>55629189</td>\n",
       "      <td>Caucasian</td>\n",
       "      <td>Female</td>\n",
       "      <td>[10-20)</td>\n",
       "      <td>?</td>\n",
       "      <td>1</td>\n",
       "      <td>1</td>\n",
       "      <td>7</td>\n",
       "      <td>3</td>\n",
       "      <td>...</td>\n",
       "      <td>No</td>\n",
       "      <td>Up</td>\n",
       "      <td>No</td>\n",
       "      <td>No</td>\n",
       "      <td>No</td>\n",
       "      <td>No</td>\n",
       "      <td>No</td>\n",
       "      <td>Ch</td>\n",
       "      <td>Yes</td>\n",
       "      <td>&gt;30</td>\n",
       "    </tr>\n",
       "    <tr>\n",
       "      <th>2</th>\n",
       "      <td>64410</td>\n",
       "      <td>86047875</td>\n",
       "      <td>AfricanAmerican</td>\n",
       "      <td>Female</td>\n",
       "      <td>[20-30)</td>\n",
       "      <td>?</td>\n",
       "      <td>1</td>\n",
       "      <td>1</td>\n",
       "      <td>7</td>\n",
       "      <td>2</td>\n",
       "      <td>...</td>\n",
       "      <td>No</td>\n",
       "      <td>No</td>\n",
       "      <td>No</td>\n",
       "      <td>No</td>\n",
       "      <td>No</td>\n",
       "      <td>No</td>\n",
       "      <td>No</td>\n",
       "      <td>No</td>\n",
       "      <td>Yes</td>\n",
       "      <td>NO</td>\n",
       "    </tr>\n",
       "    <tr>\n",
       "      <th>3</th>\n",
       "      <td>500364</td>\n",
       "      <td>82442376</td>\n",
       "      <td>Caucasian</td>\n",
       "      <td>Male</td>\n",
       "      <td>[30-40)</td>\n",
       "      <td>?</td>\n",
       "      <td>1</td>\n",
       "      <td>1</td>\n",
       "      <td>7</td>\n",
       "      <td>2</td>\n",
       "      <td>...</td>\n",
       "      <td>No</td>\n",
       "      <td>Up</td>\n",
       "      <td>No</td>\n",
       "      <td>No</td>\n",
       "      <td>No</td>\n",
       "      <td>No</td>\n",
       "      <td>No</td>\n",
       "      <td>Ch</td>\n",
       "      <td>Yes</td>\n",
       "      <td>NO</td>\n",
       "    </tr>\n",
       "    <tr>\n",
       "      <th>4</th>\n",
       "      <td>16680</td>\n",
       "      <td>42519267</td>\n",
       "      <td>Caucasian</td>\n",
       "      <td>Male</td>\n",
       "      <td>[40-50)</td>\n",
       "      <td>?</td>\n",
       "      <td>1</td>\n",
       "      <td>1</td>\n",
       "      <td>7</td>\n",
       "      <td>1</td>\n",
       "      <td>...</td>\n",
       "      <td>No</td>\n",
       "      <td>Steady</td>\n",
       "      <td>No</td>\n",
       "      <td>No</td>\n",
       "      <td>No</td>\n",
       "      <td>No</td>\n",
       "      <td>No</td>\n",
       "      <td>Ch</td>\n",
       "      <td>Yes</td>\n",
       "      <td>NO</td>\n",
       "    </tr>\n",
       "  </tbody>\n",
       "</table>\n",
       "<p>5 rows × 50 columns</p>\n",
       "</div>"
      ],
      "text/plain": [
       "   encounter_id  patient_nbr             race  gender      age weight  \\\n",
       "0       2278392      8222157        Caucasian  Female   [0-10)      ?   \n",
       "1        149190     55629189        Caucasian  Female  [10-20)      ?   \n",
       "2         64410     86047875  AfricanAmerican  Female  [20-30)      ?   \n",
       "3        500364     82442376        Caucasian    Male  [30-40)      ?   \n",
       "4         16680     42519267        Caucasian    Male  [40-50)      ?   \n",
       "\n",
       "   admission_type_id  discharge_disposition_id  admission_source_id  \\\n",
       "0                  6                        25                    1   \n",
       "1                  1                         1                    7   \n",
       "2                  1                         1                    7   \n",
       "3                  1                         1                    7   \n",
       "4                  1                         1                    7   \n",
       "\n",
       "   time_in_hospital  ... citoglipton insulin  glyburide-metformin  \\\n",
       "0                 1  ...          No      No                   No   \n",
       "1                 3  ...          No      Up                   No   \n",
       "2                 2  ...          No      No                   No   \n",
       "3                 2  ...          No      Up                   No   \n",
       "4                 1  ...          No  Steady                   No   \n",
       "\n",
       "   glipizide-metformin  glimepiride-pioglitazone  metformin-rosiglitazone  \\\n",
       "0                   No                        No                       No   \n",
       "1                   No                        No                       No   \n",
       "2                   No                        No                       No   \n",
       "3                   No                        No                       No   \n",
       "4                   No                        No                       No   \n",
       "\n",
       "   metformin-pioglitazone  change diabetesMed readmitted  \n",
       "0                      No      No          No         NO  \n",
       "1                      No      Ch         Yes        >30  \n",
       "2                      No      No         Yes         NO  \n",
       "3                      No      Ch         Yes         NO  \n",
       "4                      No      Ch         Yes         NO  \n",
       "\n",
       "[5 rows x 50 columns]"
      ]
     },
     "execution_count": 2,
     "metadata": {},
     "output_type": "execute_result"
    }
   ],
   "source": [
    "df_diabetes = pd.read_csv('diabetic_data.csv')\n",
    "df_diabetes.head()"
   ]
  },
  {
   "cell_type": "code",
   "execution_count": 3,
   "id": "b4a5bfaf-3e6f-4c18-9a9b-bc5bac6536ce",
   "metadata": {},
   "outputs": [
    {
     "name": "stdout",
     "output_type": "stream",
     "text": [
      "<class 'pandas.core.frame.DataFrame'>\n",
      "RangeIndex: 101766 entries, 0 to 101765\n",
      "Data columns (total 50 columns):\n",
      " #   Column                    Non-Null Count   Dtype \n",
      "---  ------                    --------------   ----- \n",
      " 0   encounter_id              101766 non-null  int64 \n",
      " 1   patient_nbr               101766 non-null  int64 \n",
      " 2   race                      101766 non-null  object\n",
      " 3   gender                    101766 non-null  object\n",
      " 4   age                       101766 non-null  object\n",
      " 5   weight                    101766 non-null  object\n",
      " 6   admission_type_id         101766 non-null  int64 \n",
      " 7   discharge_disposition_id  101766 non-null  int64 \n",
      " 8   admission_source_id       101766 non-null  int64 \n",
      " 9   time_in_hospital          101766 non-null  int64 \n",
      " 10  payer_code                101766 non-null  object\n",
      " 11  medical_specialty         101766 non-null  object\n",
      " 12  num_lab_procedures        101766 non-null  int64 \n",
      " 13  num_procedures            101766 non-null  int64 \n",
      " 14  num_medications           101766 non-null  int64 \n",
      " 15  number_outpatient         101766 non-null  int64 \n",
      " 16  number_emergency          101766 non-null  int64 \n",
      " 17  number_inpatient          101766 non-null  int64 \n",
      " 18  diag_1                    101766 non-null  object\n",
      " 19  diag_2                    101766 non-null  object\n",
      " 20  diag_3                    101766 non-null  object\n",
      " 21  number_diagnoses          101766 non-null  int64 \n",
      " 22  max_glu_serum             101766 non-null  object\n",
      " 23  A1Cresult                 101766 non-null  object\n",
      " 24  metformin                 101766 non-null  object\n",
      " 25  repaglinide               101766 non-null  object\n",
      " 26  nateglinide               101766 non-null  object\n",
      " 27  chlorpropamide            101766 non-null  object\n",
      " 28  glimepiride               101766 non-null  object\n",
      " 29  acetohexamide             101766 non-null  object\n",
      " 30  glipizide                 101766 non-null  object\n",
      " 31  glyburide                 101766 non-null  object\n",
      " 32  tolbutamide               101766 non-null  object\n",
      " 33  pioglitazone              101766 non-null  object\n",
      " 34  rosiglitazone             101766 non-null  object\n",
      " 35  acarbose                  101766 non-null  object\n",
      " 36  miglitol                  101766 non-null  object\n",
      " 37  troglitazone              101766 non-null  object\n",
      " 38  tolazamide                101766 non-null  object\n",
      " 39  examide                   101766 non-null  object\n",
      " 40  citoglipton               101766 non-null  object\n",
      " 41  insulin                   101766 non-null  object\n",
      " 42  glyburide-metformin       101766 non-null  object\n",
      " 43  glipizide-metformin       101766 non-null  object\n",
      " 44  glimepiride-pioglitazone  101766 non-null  object\n",
      " 45  metformin-rosiglitazone   101766 non-null  object\n",
      " 46  metformin-pioglitazone    101766 non-null  object\n",
      " 47  change                    101766 non-null  object\n",
      " 48  diabetesMed               101766 non-null  object\n",
      " 49  readmitted                101766 non-null  object\n",
      "dtypes: int64(13), object(37)\n",
      "memory usage: 38.8+ MB\n"
     ]
    }
   ],
   "source": [
    "df_diabetes.info()"
   ]
  },
  {
   "cell_type": "markdown",
   "id": "000a0e52-de11-4bf2-9efb-94e3e261e29a",
   "metadata": {},
   "source": [
    "# Data cleaning"
   ]
  },
  {
   "cell_type": "markdown",
   "id": "c91d1952-c31f-4fee-8974-36d08615bb20",
   "metadata": {},
   "source": [
    "## Check for missing values"
   ]
  },
  {
   "cell_type": "markdown",
   "id": "1858fdac-a25a-497d-ad38-badefa20af1b",
   "metadata": {},
   "source": [
    "From the information above, max_glu_serum and A1Cresult columns has missing values. Lets calculate what percent of values are missing."
   ]
  },
  {
   "cell_type": "code",
   "execution_count": 4,
   "id": "e049f1fd-14d9-43c2-814e-309e9b3d3b7a",
   "metadata": {},
   "outputs": [
    {
     "name": "stdout",
     "output_type": "stream",
     "text": [
      "max_glu_serum column has 0 i.e. 0.0 % null values.\n"
     ]
    }
   ],
   "source": [
    "max_glu_serum_null = df_diabetes['max_glu_serum'].isnull().sum()\n",
    "max_glu_serum_percentage_null = round((max_glu_serum_null/df_diabetes.shape[0])*100,2)\n",
    "print(f'max_glu_serum column has {max_glu_serum_null} i.e. {max_glu_serum_percentage_null} % null values.')"
   ]
  },
  {
   "cell_type": "code",
   "execution_count": 5,
   "id": "d136b2ae-1fbf-49d9-baeb-8bff5a0bff22",
   "metadata": {},
   "outputs": [
    {
     "name": "stdout",
     "output_type": "stream",
     "text": [
      "A1Cresult column has 0 i.e. 0.0 % null values.\n"
     ]
    }
   ],
   "source": [
    "A1Cresult_null = df_diabetes['A1Cresult'].isnull().sum()\n",
    "A1Cresult_percentage_null = round((A1Cresult_null/df_diabetes.shape[0])*100,2)\n",
    "print(f'A1Cresult column has {A1Cresult_null} i.e. {A1Cresult_percentage_null} % null values.')"
   ]
  },
  {
   "cell_type": "code",
   "execution_count": 6,
   "id": "c6ed0eb1-a1c5-4238-b6e0-54b462ae0080",
   "metadata": {},
   "outputs": [
    {
     "data": {
      "text/plain": [
       "None    96420\n",
       "Norm     2597\n",
       ">200     1485\n",
       ">300     1264\n",
       "Name: max_glu_serum, dtype: int64"
      ]
     },
     "execution_count": 6,
     "metadata": {},
     "output_type": "execute_result"
    }
   ],
   "source": [
    "df_diabetes['max_glu_serum'].value_counts()"
   ]
  },
  {
   "cell_type": "markdown",
   "id": "ffc1d6b2-0d34-498c-a2c6-482fde824f3c",
   "metadata": {},
   "source": [
    "94.75 % of values are missing and we can drop the column. OR if it is clinically important feature, we should check with SME if we can impute with mode i.e., \"Norm\"."
   ]
  },
  {
   "cell_type": "code",
   "execution_count": 7,
   "id": "4857666b-45b8-4449-a936-9331ae30ca2f",
   "metadata": {},
   "outputs": [
    {
     "data": {
      "text/plain": [
       "None    84748\n",
       ">8       8216\n",
       "Norm     4990\n",
       ">7       3812\n",
       "Name: A1Cresult, dtype: int64"
      ]
     },
     "execution_count": 7,
     "metadata": {},
     "output_type": "execute_result"
    }
   ],
   "source": [
    "df_diabetes['A1Cresult'].value_counts()"
   ]
  },
  {
   "cell_type": "markdown",
   "id": "a9b2d473-1a49-40b8-9c5f-c6bd8d6acdd3",
   "metadata": {},
   "source": [
    "83.28 % of values are missing and we can drop the column. OR if it is a clinically important feature, we should check with SME if we can impute with mode i.e., \">8\"."
   ]
  },
  {
   "cell_type": "markdown",
   "id": "b8d13e38-4e65-436c-9464-ca6e4493cf19",
   "metadata": {},
   "source": [
    "## Explore the dataset for unique values in each column"
   ]
  },
  {
   "cell_type": "code",
   "execution_count": 8,
   "id": "288a1c04-0e6d-4979-a4ec-47b5c1f49fe4",
   "metadata": {},
   "outputs": [
    {
     "name": "stdout",
     "output_type": "stream",
     "text": [
      "Caucasian          76099\n",
      "AfricanAmerican    19210\n",
      "?                   2273\n",
      "Hispanic            2037\n",
      "Other               1506\n",
      "Asian                641\n",
      "Name: race, dtype: int64\n",
      "----------------------------------------\n",
      "Female             54708\n",
      "Male               47055\n",
      "Unknown/Invalid        3\n",
      "Name: gender, dtype: int64\n",
      "----------------------------------------\n",
      "[70-80)     26068\n",
      "[60-70)     22483\n",
      "[50-60)     17256\n",
      "[80-90)     17197\n",
      "[40-50)      9685\n",
      "[30-40)      3775\n",
      "[90-100)     2793\n",
      "[20-30)      1657\n",
      "[10-20)       691\n",
      "[0-10)        161\n",
      "Name: age, dtype: int64\n",
      "----------------------------------------\n",
      "?            98569\n",
      "[75-100)      1336\n",
      "[50-75)        897\n",
      "[100-125)      625\n",
      "[125-150)      145\n",
      "[25-50)         97\n",
      "[0-25)          48\n",
      "[150-175)       35\n",
      "[175-200)       11\n",
      ">200             3\n",
      "Name: weight, dtype: int64\n",
      "----------------------------------------\n",
      "?     40256\n",
      "MC    32439\n",
      "HM     6274\n",
      "SP     5007\n",
      "BC     4655\n",
      "MD     3532\n",
      "CP     2533\n",
      "UN     2448\n",
      "CM     1937\n",
      "OG     1033\n",
      "PO      592\n",
      "DM      549\n",
      "CH      146\n",
      "WC      135\n",
      "OT       95\n",
      "MP       79\n",
      "SI       55\n",
      "FR        1\n",
      "Name: payer_code, dtype: int64\n",
      "----------------------------------------\n",
      "?                                49949\n",
      "InternalMedicine                 14635\n",
      "Emergency/Trauma                  7565\n",
      "Family/GeneralPractice            7440\n",
      "Cardiology                        5352\n",
      "                                 ...  \n",
      "Psychiatry-Addictive                 1\n",
      "Proctology                           1\n",
      "Dermatology                          1\n",
      "SportsMedicine                       1\n",
      "Pediatrics-InfectiousDiseases        1\n",
      "Name: medical_specialty, Length: 73, dtype: int64\n",
      "----------------------------------------\n",
      "428    6862\n",
      "414    6581\n",
      "786    4016\n",
      "410    3614\n",
      "486    3508\n",
      "       ... \n",
      "314       1\n",
      "974       1\n",
      "V51       1\n",
      "955       1\n",
      "V25       1\n",
      "Name: diag_1, Length: 717, dtype: int64\n",
      "----------------------------------------\n",
      "276     6752\n",
      "428     6662\n",
      "250     6071\n",
      "427     5036\n",
      "401     3736\n",
      "        ... \n",
      "E829       1\n",
      "316        1\n",
      "843        1\n",
      "99         1\n",
      "88         1\n",
      "Name: diag_2, Length: 749, dtype: int64\n",
      "----------------------------------------\n",
      "250     11555\n",
      "401      8289\n",
      "276      5175\n",
      "428      4577\n",
      "427      3955\n",
      "        ...  \n",
      "475         1\n",
      "955         1\n",
      "E828        1\n",
      "930         1\n",
      "V01         1\n",
      "Name: diag_3, Length: 790, dtype: int64\n",
      "----------------------------------------\n",
      "None    96420\n",
      "Norm     2597\n",
      ">200     1485\n",
      ">300     1264\n",
      "Name: max_glu_serum, dtype: int64\n",
      "----------------------------------------\n",
      "None    84748\n",
      ">8       8216\n",
      "Norm     4990\n",
      ">7       3812\n",
      "Name: A1Cresult, dtype: int64\n",
      "----------------------------------------\n",
      "No        81778\n",
      "Steady    18346\n",
      "Up         1067\n",
      "Down        575\n",
      "Name: metformin, dtype: int64\n",
      "----------------------------------------\n",
      "No        100227\n",
      "Steady      1384\n",
      "Up           110\n",
      "Down          45\n",
      "Name: repaglinide, dtype: int64\n",
      "----------------------------------------\n",
      "No        101063\n",
      "Steady       668\n",
      "Up            24\n",
      "Down          11\n",
      "Name: nateglinide, dtype: int64\n",
      "----------------------------------------\n",
      "No        101680\n",
      "Steady        79\n",
      "Up             6\n",
      "Down           1\n",
      "Name: chlorpropamide, dtype: int64\n",
      "----------------------------------------\n",
      "No        96575\n",
      "Steady     4670\n",
      "Up          327\n",
      "Down        194\n",
      "Name: glimepiride, dtype: int64\n",
      "----------------------------------------\n",
      "No        101765\n",
      "Steady         1\n",
      "Name: acetohexamide, dtype: int64\n",
      "----------------------------------------\n",
      "No        89080\n",
      "Steady    11356\n",
      "Up          770\n",
      "Down        560\n",
      "Name: glipizide, dtype: int64\n",
      "----------------------------------------\n",
      "No        91116\n",
      "Steady     9274\n",
      "Up          812\n",
      "Down        564\n",
      "Name: glyburide, dtype: int64\n",
      "----------------------------------------\n",
      "No        101743\n",
      "Steady        23\n",
      "Name: tolbutamide, dtype: int64\n",
      "----------------------------------------\n",
      "No        94438\n",
      "Steady     6976\n",
      "Up          234\n",
      "Down        118\n",
      "Name: pioglitazone, dtype: int64\n",
      "----------------------------------------\n",
      "No        95401\n",
      "Steady     6100\n",
      "Up          178\n",
      "Down         87\n",
      "Name: rosiglitazone, dtype: int64\n",
      "----------------------------------------\n",
      "No        101458\n",
      "Steady       295\n",
      "Up            10\n",
      "Down           3\n",
      "Name: acarbose, dtype: int64\n",
      "----------------------------------------\n",
      "No        101728\n",
      "Steady        31\n",
      "Down           5\n",
      "Up             2\n",
      "Name: miglitol, dtype: int64\n",
      "----------------------------------------\n",
      "No        101763\n",
      "Steady         3\n",
      "Name: troglitazone, dtype: int64\n",
      "----------------------------------------\n",
      "No        101727\n",
      "Steady        38\n",
      "Up             1\n",
      "Name: tolazamide, dtype: int64\n",
      "----------------------------------------\n",
      "No    101766\n",
      "Name: examide, dtype: int64\n",
      "----------------------------------------\n",
      "No    101766\n",
      "Name: citoglipton, dtype: int64\n",
      "----------------------------------------\n",
      "No        47383\n",
      "Steady    30849\n",
      "Down      12218\n",
      "Up        11316\n",
      "Name: insulin, dtype: int64\n",
      "----------------------------------------\n",
      "No        101060\n",
      "Steady       692\n",
      "Up             8\n",
      "Down           6\n",
      "Name: glyburide-metformin, dtype: int64\n",
      "----------------------------------------\n",
      "No        101753\n",
      "Steady        13\n",
      "Name: glipizide-metformin, dtype: int64\n",
      "----------------------------------------\n",
      "No        101765\n",
      "Steady         1\n",
      "Name: glimepiride-pioglitazone, dtype: int64\n",
      "----------------------------------------\n",
      "No        101764\n",
      "Steady         2\n",
      "Name: metformin-rosiglitazone, dtype: int64\n",
      "----------------------------------------\n",
      "No        101765\n",
      "Steady         1\n",
      "Name: metformin-pioglitazone, dtype: int64\n",
      "----------------------------------------\n",
      "No    54755\n",
      "Ch    47011\n",
      "Name: change, dtype: int64\n",
      "----------------------------------------\n",
      "Yes    78363\n",
      "No     23403\n",
      "Name: diabetesMed, dtype: int64\n",
      "----------------------------------------\n",
      "NO     54864\n",
      ">30    35545\n",
      "<30    11357\n",
      "Name: readmitted, dtype: int64\n",
      "----------------------------------------\n"
     ]
    }
   ],
   "source": [
    "for x in df_diabetes.select_dtypes('object'):\n",
    "    print(df_diabetes[x].value_counts())\n",
    "    print(\"--\"*20)"
   ]
  },
  {
   "cell_type": "markdown",
   "id": "34a176c3-2098-4b84-a560-eae53ab4b6be",
   "metadata": {},
   "source": [
    "The following columns have respective invalid values:\n",
    "race - ?\n",
    "gender - Unknown/Invalid\n",
    "weight - ?\n",
    "payer_code - ?\n",
    "medical_specialty - ?"
   ]
  },
  {
   "cell_type": "markdown",
   "id": "ee1071ec-e22b-45c5-b1ad-c98f90dbbc34",
   "metadata": {},
   "source": [
    "Lets also check if we missed any columns which has '?'."
   ]
  },
  {
   "cell_type": "code",
   "execution_count": 9,
   "id": "4ff7aaf1-cddf-4651-ba86-14e72e1937f0",
   "metadata": {},
   "outputs": [
    {
     "name": "stdout",
     "output_type": "stream",
     "text": [
      "Columns with '?' values: ['race', 'weight', 'payer_code', 'medical_specialty', 'diag_1', 'diag_2', 'diag_3']\n",
      "Number of '?' occurrences in each column:\n",
      "race: 2273\n",
      "weight: 98569\n",
      "payer_code: 40256\n",
      "medical_specialty: 49949\n",
      "diag_1: 21\n",
      "diag_2: 358\n",
      "diag_3: 1423\n"
     ]
    },
    {
     "name": "stderr",
     "output_type": "stream",
     "text": [
      "<ipython-input-9-b0144b84ff8f>:10: FutureWarning: elementwise comparison failed; returning scalar instead, but in the future will perform elementwise comparison\n",
      "  if '?' in df_diabetes[x].values:\n"
     ]
    }
   ],
   "source": [
    "# Initialize an empty list to store column names with '?'\n",
    "quest_columns = []\n",
    "\n",
    "# Initialize a dictionary to store the count of '?' occurrences in each column\n",
    "quest_counts = {}\n",
    "\n",
    "# Iterate over columns in the DataFrame\n",
    "for x in df_diabetes.columns:\n",
    "    # Check if any value in the column is equal to '?'\n",
    "    if '?' in df_diabetes[x].values:\n",
    "        quest_columns.append(x)\n",
    "        # Count the number of '?' occurrences in the column\n",
    "        quest_counts[x] = (df_diabetes[x] == '?').sum()\n",
    "\n",
    "# Print the list of columns with '?' and their respective counts\n",
    "print(\"Columns with '?' values:\", quest_columns)\n",
    "print(\"Number of '?' occurrences in each column:\")\n",
    "for col, count in quest_counts.items():\n",
    "    print(f\"{col}: {count}\")"
   ]
  },
  {
   "cell_type": "markdown",
   "id": "69aacffd-f82d-4a01-9892-eae5c0eae540",
   "metadata": {},
   "source": [
    "So we have '?' in 'diag_1', 'diag_2' and 'diag_3' columns also."
   ]
  },
  {
   "cell_type": "markdown",
   "id": "3646c484-f7a6-42a3-804a-349cbb84d389",
   "metadata": {},
   "source": [
    "### Finding percentage of respective invalid values for each column"
   ]
  },
  {
   "cell_type": "code",
   "execution_count": 10,
   "id": "f2f0db71-2f9e-470a-a977-7d3d4c0296e4",
   "metadata": {},
   "outputs": [],
   "source": [
    "dict_invalid_values = {'race': '?', 'gender':'Unknown/Invalid','weight':'?','payer_code':'?','medical_specialty':'?', 'diag_1':'?', 'diag_2':'?', 'diag_3':'?'}"
   ]
  },
  {
   "cell_type": "code",
   "execution_count": 11,
   "id": "b9eae310-bc42-454d-ab25-1a15e9f4b4f3",
   "metadata": {},
   "outputs": [],
   "source": [
    "def invalid_values():\n",
    "    for colname in dict_invalid_values:\n",
    "        colname_invalid = (df_diabetes[colname]==dict_invalid_values[colname]).sum()\n",
    "        colname_percentage_invalid = round((colname_invalid/df_diabetes[colname].count())*100,2)\n",
    "        print(f\"\\033[1m{colname}\\033[0m column has \\033[1m{colname_invalid}\\033[0m (\\033[1m{colname_percentage_invalid} %\\033[0m) invalid({dict_invalid_values[colname]}) values.\")"
   ]
  },
  {
   "cell_type": "code",
   "execution_count": 12,
   "id": "6ca4f564-c558-42e1-a7c9-1ac4ff6a2efc",
   "metadata": {},
   "outputs": [
    {
     "name": "stdout",
     "output_type": "stream",
     "text": [
      "\u001b[1mrace\u001b[0m column has \u001b[1m2273\u001b[0m (\u001b[1m2.23 %\u001b[0m) invalid(?) values.\n",
      "\u001b[1mgender\u001b[0m column has \u001b[1m3\u001b[0m (\u001b[1m0.0 %\u001b[0m) invalid(Unknown/Invalid) values.\n",
      "\u001b[1mweight\u001b[0m column has \u001b[1m98569\u001b[0m (\u001b[1m96.86 %\u001b[0m) invalid(?) values.\n",
      "\u001b[1mpayer_code\u001b[0m column has \u001b[1m40256\u001b[0m (\u001b[1m39.56 %\u001b[0m) invalid(?) values.\n",
      "\u001b[1mmedical_specialty\u001b[0m column has \u001b[1m49949\u001b[0m (\u001b[1m49.08 %\u001b[0m) invalid(?) values.\n",
      "\u001b[1mdiag_1\u001b[0m column has \u001b[1m21\u001b[0m (\u001b[1m0.02 %\u001b[0m) invalid(?) values.\n",
      "\u001b[1mdiag_2\u001b[0m column has \u001b[1m358\u001b[0m (\u001b[1m0.35 %\u001b[0m) invalid(?) values.\n",
      "\u001b[1mdiag_3\u001b[0m column has \u001b[1m1423\u001b[0m (\u001b[1m1.4 %\u001b[0m) invalid(?) values.\n"
     ]
    }
   ],
   "source": [
    "invalid_values()"
   ]
  },
  {
   "cell_type": "markdown",
   "id": "cb8a8277-9477-4081-9d46-92812f579d73",
   "metadata": {},
   "source": [
    "As per the above information, we can impute the race column \"?\" values by most frequent value \"Caucasian\", delete the rows which has \"Unknown/Invalid\" in gender column, drop the weight column as it has 96% invalid values. We have to think about payer_code, medical_specialty as they have significant invalid values i.e., 40 and 50 % approx respectively."
   ]
  },
  {
   "cell_type": "code",
   "execution_count": 13,
   "id": "9753bfdb-53d5-48b9-a67a-06fafcd368e8",
   "metadata": {},
   "outputs": [
    {
     "data": {
      "text/plain": [
       "?     40256\n",
       "MC    32439\n",
       "HM     6274\n",
       "SP     5007\n",
       "BC     4655\n",
       "MD     3532\n",
       "CP     2533\n",
       "UN     2448\n",
       "CM     1937\n",
       "OG     1033\n",
       "PO      592\n",
       "DM      549\n",
       "CH      146\n",
       "WC      135\n",
       "OT       95\n",
       "MP       79\n",
       "SI       55\n",
       "FR        1\n",
       "Name: payer_code, dtype: int64"
      ]
     },
     "execution_count": 13,
     "metadata": {},
     "output_type": "execute_result"
    }
   ],
   "source": [
    "df_diabetes['payer_code'].value_counts()"
   ]
  },
  {
   "cell_type": "code",
   "execution_count": 14,
   "id": "3d75716f-473a-46ef-8543-26af61c921d9",
   "metadata": {},
   "outputs": [
    {
     "name": "stdout",
     "output_type": "stream",
     "text": [
      "?                                49949\n",
      "InternalMedicine                 14635\n",
      "Emergency/Trauma                  7565\n",
      "Family/GeneralPractice            7440\n",
      "Cardiology                        5352\n",
      "                                 ...  \n",
      "Psychiatry-Addictive                 1\n",
      "Proctology                           1\n",
      "Dermatology                          1\n",
      "SportsMedicine                       1\n",
      "Pediatrics-InfectiousDiseases        1\n",
      "Name: medical_specialty, Length: 73, dtype: int64\n"
     ]
    }
   ],
   "source": [
    "print(df_diabetes['medical_specialty'].value_counts())"
   ]
  },
  {
   "cell_type": "markdown",
   "id": "92371b3e-bedb-4908-8c82-43fb808377bf",
   "metadata": {},
   "source": [
    "For 'payer_code', we can replace \"?\" by 'MC', and for 'medical_specialty', we can replace \"?\" by 'InternalMedicine'. Here we are using most frequent value for imputation. Anyhow this should be reviewed by SME for relavence."
   ]
  },
  {
   "cell_type": "markdown",
   "id": "79cc1066-8b3e-4527-b50f-19886737ed11",
   "metadata": {},
   "source": [
    "I think 'diag_1', 'diag_2' and 'diag_3' data should not be imputed, because it may be misleading as they are diagnosis data. Hence I think we should drop those rows as the percentage of invaled values are comparitively less. Again advise of SME will be helpful here."
   ]
  },
  {
   "cell_type": "markdown",
   "id": "296962e6-aef2-4efc-91eb-40b7679ca641",
   "metadata": {},
   "source": [
    "### Imputation"
   ]
  },
  {
   "cell_type": "code",
   "execution_count": 15,
   "id": "ee4407f6-e5b6-499c-881b-c9d10fc115ac",
   "metadata": {},
   "outputs": [],
   "source": [
    "# Taking copy of the data set\n",
    "df = df_diabetes.copy()"
   ]
  },
  {
   "cell_type": "code",
   "execution_count": 16,
   "id": "ae4e98a9-2e15-462e-8853-f8a52755c7fc",
   "metadata": {},
   "outputs": [
    {
     "data": {
      "text/plain": [
       "50"
      ]
     },
     "execution_count": 16,
     "metadata": {},
     "output_type": "execute_result"
    }
   ],
   "source": [
    "# No. of columns before dropping\n",
    "df.shape[1]"
   ]
  },
  {
   "cell_type": "code",
   "execution_count": 17,
   "id": "fa7ede67-2603-4a41-8b72-aed7b5082004",
   "metadata": {},
   "outputs": [],
   "source": [
    "# Dropping 'max_glu_serum','A1Cresult', 'weight' columns.\n",
    "df.drop(['max_glu_serum','A1Cresult', 'weight'], axis=1, inplace=True)"
   ]
  },
  {
   "cell_type": "code",
   "execution_count": 18,
   "id": "b10d55fa-2be5-436c-94e1-eed50619c8b5",
   "metadata": {},
   "outputs": [
    {
     "data": {
      "text/plain": [
       "47"
      ]
     },
     "execution_count": 18,
     "metadata": {},
     "output_type": "execute_result"
    }
   ],
   "source": [
    "# No. of columns after dropping\n",
    "df.shape[1]"
   ]
  },
  {
   "cell_type": "code",
   "execution_count": 19,
   "id": "185ab0d3-1096-4e20-b831-46c411410c73",
   "metadata": {},
   "outputs": [],
   "source": [
    "# For race column, replace \"?\" by \"Caucasian\"\n",
    "df['race']= df['race'].replace('?', 'Caucasian')\n",
    "# For payer_code column, replace \"?\" by \"MC\"\n",
    "df['payer_code']= df['payer_code'].replace('?', 'MC')\n",
    "# For medical_specialty column, replace \"?\" by \"InternalMedicine\"\n",
    "df['medical_specialty']= df['medical_specialty'].replace('?', 'InternalMedicine')"
   ]
  },
  {
   "cell_type": "markdown",
   "id": "f7bf5b7f-3fae-4b24-9150-928b4be752df",
   "metadata": {},
   "source": [
    "Now lets drop rows by condition"
   ]
  },
  {
   "cell_type": "code",
   "execution_count": 20,
   "id": "d9467500-4efe-4db2-a3a5-af9fc1280337",
   "metadata": {},
   "outputs": [],
   "source": [
    "drop_condition = ((df['gender'] == 'Unknown/Invalid') | (df['diag_1'] == '?') | (df['diag_2'] == '?') | (df['diag_3'] == '?'))\n",
    "df = df[~drop_condition]"
   ]
  },
  {
   "cell_type": "code",
   "execution_count": 21,
   "id": "bedb2ce9-116c-49c4-af05-8b59a65eb724",
   "metadata": {},
   "outputs": [
    {
     "data": {
      "text/plain": [
       "0"
      ]
     },
     "execution_count": 21,
     "metadata": {},
     "output_type": "execute_result"
    }
   ],
   "source": [
    "# Now there should not be any \"?\" in the dataset.\n",
    "np.sum(df.values == '?')"
   ]
  },
  {
   "cell_type": "code",
   "execution_count": 22,
   "id": "8803fd4c-7b33-4296-8517-134e6a9948ea",
   "metadata": {},
   "outputs": [
    {
     "data": {
      "text/plain": [
       "encounter_id                0\n",
       "patient_nbr                 0\n",
       "race                        0\n",
       "gender                      0\n",
       "age                         0\n",
       "admission_type_id           0\n",
       "discharge_disposition_id    0\n",
       "admission_source_id         0\n",
       "time_in_hospital            0\n",
       "payer_code                  0\n",
       "medical_specialty           0\n",
       "num_lab_procedures          0\n",
       "num_procedures              0\n",
       "num_medications             0\n",
       "number_outpatient           0\n",
       "number_emergency            0\n",
       "number_inpatient            0\n",
       "diag_1                      0\n",
       "diag_2                      0\n",
       "diag_3                      0\n",
       "number_diagnoses            0\n",
       "metformin                   0\n",
       "repaglinide                 0\n",
       "nateglinide                 0\n",
       "chlorpropamide              0\n",
       "glimepiride                 0\n",
       "acetohexamide               0\n",
       "glipizide                   0\n",
       "glyburide                   0\n",
       "tolbutamide                 0\n",
       "pioglitazone                0\n",
       "rosiglitazone               0\n",
       "acarbose                    0\n",
       "miglitol                    0\n",
       "troglitazone                0\n",
       "tolazamide                  0\n",
       "examide                     0\n",
       "citoglipton                 0\n",
       "insulin                     0\n",
       "glyburide-metformin         0\n",
       "glipizide-metformin         0\n",
       "glimepiride-pioglitazone    0\n",
       "metformin-rosiglitazone     0\n",
       "metformin-pioglitazone      0\n",
       "change                      0\n",
       "diabetesMed                 0\n",
       "readmitted                  0\n",
       "dtype: int64"
      ]
     },
     "execution_count": 22,
     "metadata": {},
     "output_type": "execute_result"
    }
   ],
   "source": [
    "# Also there shouldn't be any null values\n",
    "df.isnull().sum()"
   ]
  },
  {
   "cell_type": "code",
   "execution_count": 23,
   "id": "1beefccb-72cc-4466-bd41-5c5363db314e",
   "metadata": {},
   "outputs": [
    {
     "name": "stdout",
     "output_type": "stream",
     "text": [
      "Initial shape: (101766, 50)\n",
      "Shape after cleaning: (100241, 47)\n",
      "So, no. of rows deleted: 1525 (1.5 %), and no. of columns deleted: 3  (6.0 %)\n"
     ]
    }
   ],
   "source": [
    "# Now lets check the shape of the dataframe\n",
    "print(f'Initial shape: {df_diabetes.shape}')\n",
    "print(f'Shape after cleaning: {df.shape}')\n",
    "print(f'So, no. of rows deleted: {df_diabetes.shape[0]-df.shape[0]} ({round(((df_diabetes.shape[0]-df.shape[0])/df_diabetes.shape[0])*100,2)} %), and no. of columns deleted: {df_diabetes.shape[1]-df.shape[1]}  ({round(((df_diabetes.shape[1]-df.shape[1])/df_diabetes.shape[1])*100,2)} %)')"
   ]
  },
  {
   "cell_type": "markdown",
   "id": "ce3b9385-52f8-4fbc-9f40-752262f18caa",
   "metadata": {},
   "source": [
    "# Data pre-processing"
   ]
  },
  {
   "cell_type": "code",
   "execution_count": 24,
   "id": "7d831a3e-b13f-43cc-9bf4-74426d144bde",
   "metadata": {},
   "outputs": [],
   "source": [
    "# Taking copy of the data set\n",
    "df_cleaned = df.copy()"
   ]
  },
  {
   "cell_type": "code",
   "execution_count": 25,
   "id": "961f06c6-f3a4-4c64-9042-2607f1f9e453",
   "metadata": {},
   "outputs": [
    {
     "data": {
      "text/plain": [
       "0"
      ]
     },
     "execution_count": 25,
     "metadata": {},
     "output_type": "execute_result"
    }
   ],
   "source": [
    "# Duplication check\n",
    "df_cleaned.duplicated().sum()"
   ]
  },
  {
   "cell_type": "markdown",
   "id": "b5c75e5a-021b-4115-bd7a-62df419f431b",
   "metadata": {},
   "source": [
    "Exploring data again to check the no. of unique values to deciding on charecter encoding"
   ]
  },
  {
   "cell_type": "code",
   "execution_count": 26,
   "id": "cd8f6ee0-6280-4f1a-99ad-7fbefb050b57",
   "metadata": {},
   "outputs": [
    {
     "name": "stdout",
     "output_type": "stream",
     "text": [
      "Object columns and their corresponding total unique values:\n",
      " race - 5,  gender - 2,  age - 10,  payer_code - 17,  medical_specialty - 72,  diag_1 - 715,  diag_2 - 743,  diag_3 - 789,  metformin - 4,  repaglinide - 4,  nateglinide - 4,  chlorpropamide - 4,  glimepiride - 4,  acetohexamide - 2,  glipizide - 4,  glyburide - 4,  tolbutamide - 2,  pioglitazone - 4,  rosiglitazone - 4,  acarbose - 4,  miglitol - 4,  troglitazone - 2,  tolazamide - 3,  examide - 1,  citoglipton - 1,  insulin - 4,  glyburide-metformin - 4,  glipizide-metformin - 2,  glimepiride-pioglitazone - 2,  metformin-rosiglitazone - 2,  metformin-pioglitazone - 2,  change - 2,  diabetesMed - 2,  readmitted - 3, "
     ]
    }
   ],
   "source": [
    "print(\"Object columns and their corresponding total unique values:\")\n",
    "for x in df_cleaned.select_dtypes('object'):\n",
    "    print(f' {x} - {df_cleaned[x].nunique()}', end=', ')"
   ]
  },
  {
   "cell_type": "code",
   "execution_count": 27,
   "id": "63ffa6a4-5ba3-408c-be96-99fbe8e5e363",
   "metadata": {},
   "outputs": [
    {
     "name": "stdout",
     "output_type": "stream",
     "text": [
      "Integer columns and their corresponding total unique values:\n"
     ]
    }
   ],
   "source": [
    "print(\"Integer columns and their corresponding total unique values:\")\n",
    "for x in df_cleaned.select_dtypes('int'):\n",
    "    print(f' {x} - {df_cleaned[x].nunique()}', end=', ')"
   ]
  },
  {
   "cell_type": "markdown",
   "id": "ff04010a-cf6f-4bcb-a055-41bbc6eaaafe",
   "metadata": {},
   "source": [
    "Based on the numbers above, \n",
    "we can apply one-hot encoding for the following columns: race, admission_type_id, discharge_disposition_id, admission_source_id, payer_code and all the medications except (acetohexamide, tolbutamide, troglitazone, glipizide-metformin, glimepiride-pioglitazone, metformin-rosiglitazone and metformin-pioglitazone, where we can use binary encoding). \n",
    "We can apply binary encoding to the forllowing columns: gender, change, diabetesMed and all other medications mentioned before as exception for one-hot.\n",
    "We need to apply label/ordinal encoding for the age column. \n",
    "We need to group and then aplly one-hot encoding (OR Target encoding) for other columns I guess: medical_specialty, diag_1, diag_2 and diag_3.\n",
    "We can drop the following columns I guess: (encounter_id and patient_nbr as they are IDs) and (examide and citoglipton as they have only one unique value)"
   ]
  },
  {
   "cell_type": "code",
   "execution_count": 28,
   "id": "74056948-0c10-4cf9-af86-7d695be5e4d1",
   "metadata": {},
   "outputs": [],
   "source": [
    "# Creating a list of columns which containg only 2 unique values\n",
    "list_binary_encd = []\n",
    "for x in df_cleaned.columns:\n",
    "    if df_cleaned[x].nunique() == 2:\n",
    "        list_binary_encd.append(x)"
   ]
  },
  {
   "cell_type": "code",
   "execution_count": 29,
   "id": "5a9d8d09-1f1b-43d2-9fb3-bef0cbbf4a72",
   "metadata": {},
   "outputs": [
    {
     "data": {
      "text/plain": [
       "['gender',\n",
       " 'acetohexamide',\n",
       " 'tolbutamide',\n",
       " 'troglitazone',\n",
       " 'glipizide-metformin',\n",
       " 'glimepiride-pioglitazone',\n",
       " 'metformin-rosiglitazone',\n",
       " 'metformin-pioglitazone',\n",
       " 'change',\n",
       " 'diabetesMed']"
      ]
     },
     "execution_count": 29,
     "metadata": {},
     "output_type": "execute_result"
    }
   ],
   "source": [
    "list_binary_encd"
   ]
  },
  {
   "cell_type": "code",
   "execution_count": 30,
   "id": "6ffc8a22-4fce-4b0d-b2b7-539da09fe348",
   "metadata": {},
   "outputs": [],
   "source": [
    "# Function for binary encoding (when we have only two categories in a column, we can replace first valure with 0 and second value with 1)\n",
    "def binary_encode (lst):\n",
    "    for x in lst:\n",
    "        unique_values = df_cleaned[x].unique()\n",
    "        df_cleaned[x] = df_cleaned[x].map({unique_values[0]:0, unique_values[1]:1})\n",
    "        print(f'In {x} column, apllied following mapping: {unique_values[0]} - 0, {unique_values[1]} - 1')"
   ]
  },
  {
   "cell_type": "code",
   "execution_count": 31,
   "id": "b374120d-b84a-4ce9-8ac9-29ad6c5c83b7",
   "metadata": {},
   "outputs": [
    {
     "name": "stdout",
     "output_type": "stream",
     "text": [
      "In gender column, apllied following mapping: Female - 0, Male - 1\n",
      "In acetohexamide column, apllied following mapping: No - 0, Steady - 1\n",
      "In tolbutamide column, apllied following mapping: No - 0, Steady - 1\n",
      "In troglitazone column, apllied following mapping: No - 0, Steady - 1\n",
      "In glipizide-metformin column, apllied following mapping: No - 0, Steady - 1\n",
      "In glimepiride-pioglitazone column, apllied following mapping: No - 0, Steady - 1\n",
      "In metformin-rosiglitazone column, apllied following mapping: No - 0, Steady - 1\n",
      "In metformin-pioglitazone column, apllied following mapping: No - 0, Steady - 1\n",
      "In change column, apllied following mapping: Ch - 0, No - 1\n",
      "In diabetesMed column, apllied following mapping: Yes - 0, No - 1\n"
     ]
    }
   ],
   "source": [
    "#Applying binary encoding\n",
    "binary_encode(list_binary_encd)"
   ]
  },
  {
   "cell_type": "code",
   "execution_count": 32,
   "id": "b1ee3f4e-c96a-4a38-a2c4-0aad5c37b12c",
   "metadata": {},
   "outputs": [
    {
     "data": {
      "text/html": [
       "<div>\n",
       "<style scoped>\n",
       "    .dataframe tbody tr th:only-of-type {\n",
       "        vertical-align: middle;\n",
       "    }\n",
       "\n",
       "    .dataframe tbody tr th {\n",
       "        vertical-align: top;\n",
       "    }\n",
       "\n",
       "    .dataframe thead th {\n",
       "        text-align: right;\n",
       "    }\n",
       "</style>\n",
       "<table border=\"1\" class=\"dataframe\">\n",
       "  <thead>\n",
       "    <tr style=\"text-align: right;\">\n",
       "      <th></th>\n",
       "      <th>encounter_id</th>\n",
       "      <th>patient_nbr</th>\n",
       "      <th>race</th>\n",
       "      <th>gender</th>\n",
       "      <th>age</th>\n",
       "      <th>admission_type_id</th>\n",
       "      <th>discharge_disposition_id</th>\n",
       "      <th>admission_source_id</th>\n",
       "      <th>time_in_hospital</th>\n",
       "      <th>payer_code</th>\n",
       "      <th>...</th>\n",
       "      <th>citoglipton</th>\n",
       "      <th>insulin</th>\n",
       "      <th>glyburide-metformin</th>\n",
       "      <th>glipizide-metformin</th>\n",
       "      <th>glimepiride-pioglitazone</th>\n",
       "      <th>metformin-rosiglitazone</th>\n",
       "      <th>metformin-pioglitazone</th>\n",
       "      <th>change</th>\n",
       "      <th>diabetesMed</th>\n",
       "      <th>readmitted</th>\n",
       "    </tr>\n",
       "  </thead>\n",
       "  <tbody>\n",
       "    <tr>\n",
       "      <th>1</th>\n",
       "      <td>149190</td>\n",
       "      <td>55629189</td>\n",
       "      <td>Caucasian</td>\n",
       "      <td>0</td>\n",
       "      <td>[10-20)</td>\n",
       "      <td>1</td>\n",
       "      <td>1</td>\n",
       "      <td>7</td>\n",
       "      <td>3</td>\n",
       "      <td>MC</td>\n",
       "      <td>...</td>\n",
       "      <td>No</td>\n",
       "      <td>Up</td>\n",
       "      <td>No</td>\n",
       "      <td>0</td>\n",
       "      <td>0</td>\n",
       "      <td>0</td>\n",
       "      <td>0</td>\n",
       "      <td>0</td>\n",
       "      <td>0</td>\n",
       "      <td>&gt;30</td>\n",
       "    </tr>\n",
       "    <tr>\n",
       "      <th>2</th>\n",
       "      <td>64410</td>\n",
       "      <td>86047875</td>\n",
       "      <td>AfricanAmerican</td>\n",
       "      <td>0</td>\n",
       "      <td>[20-30)</td>\n",
       "      <td>1</td>\n",
       "      <td>1</td>\n",
       "      <td>7</td>\n",
       "      <td>2</td>\n",
       "      <td>MC</td>\n",
       "      <td>...</td>\n",
       "      <td>No</td>\n",
       "      <td>No</td>\n",
       "      <td>No</td>\n",
       "      <td>0</td>\n",
       "      <td>0</td>\n",
       "      <td>0</td>\n",
       "      <td>0</td>\n",
       "      <td>1</td>\n",
       "      <td>0</td>\n",
       "      <td>NO</td>\n",
       "    </tr>\n",
       "    <tr>\n",
       "      <th>3</th>\n",
       "      <td>500364</td>\n",
       "      <td>82442376</td>\n",
       "      <td>Caucasian</td>\n",
       "      <td>1</td>\n",
       "      <td>[30-40)</td>\n",
       "      <td>1</td>\n",
       "      <td>1</td>\n",
       "      <td>7</td>\n",
       "      <td>2</td>\n",
       "      <td>MC</td>\n",
       "      <td>...</td>\n",
       "      <td>No</td>\n",
       "      <td>Up</td>\n",
       "      <td>No</td>\n",
       "      <td>0</td>\n",
       "      <td>0</td>\n",
       "      <td>0</td>\n",
       "      <td>0</td>\n",
       "      <td>0</td>\n",
       "      <td>0</td>\n",
       "      <td>NO</td>\n",
       "    </tr>\n",
       "    <tr>\n",
       "      <th>4</th>\n",
       "      <td>16680</td>\n",
       "      <td>42519267</td>\n",
       "      <td>Caucasian</td>\n",
       "      <td>1</td>\n",
       "      <td>[40-50)</td>\n",
       "      <td>1</td>\n",
       "      <td>1</td>\n",
       "      <td>7</td>\n",
       "      <td>1</td>\n",
       "      <td>MC</td>\n",
       "      <td>...</td>\n",
       "      <td>No</td>\n",
       "      <td>Steady</td>\n",
       "      <td>No</td>\n",
       "      <td>0</td>\n",
       "      <td>0</td>\n",
       "      <td>0</td>\n",
       "      <td>0</td>\n",
       "      <td>0</td>\n",
       "      <td>0</td>\n",
       "      <td>NO</td>\n",
       "    </tr>\n",
       "    <tr>\n",
       "      <th>5</th>\n",
       "      <td>35754</td>\n",
       "      <td>82637451</td>\n",
       "      <td>Caucasian</td>\n",
       "      <td>1</td>\n",
       "      <td>[50-60)</td>\n",
       "      <td>2</td>\n",
       "      <td>1</td>\n",
       "      <td>2</td>\n",
       "      <td>3</td>\n",
       "      <td>MC</td>\n",
       "      <td>...</td>\n",
       "      <td>No</td>\n",
       "      <td>Steady</td>\n",
       "      <td>No</td>\n",
       "      <td>0</td>\n",
       "      <td>0</td>\n",
       "      <td>0</td>\n",
       "      <td>0</td>\n",
       "      <td>1</td>\n",
       "      <td>0</td>\n",
       "      <td>&gt;30</td>\n",
       "    </tr>\n",
       "  </tbody>\n",
       "</table>\n",
       "<p>5 rows × 47 columns</p>\n",
       "</div>"
      ],
      "text/plain": [
       "   encounter_id  patient_nbr             race  gender      age  \\\n",
       "1        149190     55629189        Caucasian       0  [10-20)   \n",
       "2         64410     86047875  AfricanAmerican       0  [20-30)   \n",
       "3        500364     82442376        Caucasian       1  [30-40)   \n",
       "4         16680     42519267        Caucasian       1  [40-50)   \n",
       "5         35754     82637451        Caucasian       1  [50-60)   \n",
       "\n",
       "   admission_type_id  discharge_disposition_id  admission_source_id  \\\n",
       "1                  1                         1                    7   \n",
       "2                  1                         1                    7   \n",
       "3                  1                         1                    7   \n",
       "4                  1                         1                    7   \n",
       "5                  2                         1                    2   \n",
       "\n",
       "   time_in_hospital payer_code  ... citoglipton  insulin  glyburide-metformin  \\\n",
       "1                 3         MC  ...          No       Up                   No   \n",
       "2                 2         MC  ...          No       No                   No   \n",
       "3                 2         MC  ...          No       Up                   No   \n",
       "4                 1         MC  ...          No   Steady                   No   \n",
       "5                 3         MC  ...          No   Steady                   No   \n",
       "\n",
       "   glipizide-metformin  glimepiride-pioglitazone  metformin-rosiglitazone  \\\n",
       "1                    0                         0                        0   \n",
       "2                    0                         0                        0   \n",
       "3                    0                         0                        0   \n",
       "4                    0                         0                        0   \n",
       "5                    0                         0                        0   \n",
       "\n",
       "   metformin-pioglitazone change diabetesMed readmitted  \n",
       "1                       0      0           0        >30  \n",
       "2                       0      1           0         NO  \n",
       "3                       0      0           0         NO  \n",
       "4                       0      0           0         NO  \n",
       "5                       0      1           0        >30  \n",
       "\n",
       "[5 rows x 47 columns]"
      ]
     },
     "execution_count": 32,
     "metadata": {},
     "output_type": "execute_result"
    }
   ],
   "source": [
    "df_cleaned.head()"
   ]
  },
  {
   "cell_type": "code",
   "execution_count": 33,
   "id": "d5594088-ee1d-421a-8b4c-5e51a0ab9cde",
   "metadata": {},
   "outputs": [
    {
     "data": {
      "text/plain": [
       "array(['[10-20)', '[20-30)', '[30-40)', '[40-50)', '[50-60)', '[60-70)',\n",
       "       '[70-80)', '[80-90)', '[90-100)', '[0-10)'], dtype=object)"
      ]
     },
     "execution_count": 33,
     "metadata": {},
     "output_type": "execute_result"
    }
   ],
   "source": [
    "df_cleaned['age'].unique()"
   ]
  },
  {
   "cell_type": "code",
   "execution_count": 34,
   "id": "3bb01c03-0a03-438f-afe3-53163a15d9f6",
   "metadata": {},
   "outputs": [],
   "source": [
    "# Ordinal encoding for age column\n",
    "df_cleaned['age'] = df_cleaned['age'].map({'[0-10)':1, '[10-20)':2, '[20-30)':3, '[30-40)':4, '[40-50)':5, '[50-60)':6, '[60-70)':7, '[70-80)':8, '[80-90)':9, '[90-100)':10})"
   ]
  },
  {
   "cell_type": "code",
   "execution_count": 35,
   "id": "52a0fe67-afe7-4033-b52e-6a9c134d2235",
   "metadata": {},
   "outputs": [
    {
     "data": {
      "text/plain": [
       "array([ 2,  3,  4,  5,  6,  7,  8,  9, 10,  1], dtype=int64)"
      ]
     },
     "execution_count": 35,
     "metadata": {},
     "output_type": "execute_result"
    }
   ],
   "source": [
    "df_cleaned['age'].unique()"
   ]
  },
  {
   "cell_type": "code",
   "execution_count": 36,
   "id": "f074b38d-f722-49fc-9eab-74dae7386915",
   "metadata": {},
   "outputs": [],
   "source": [
    "# Chapter mapping based on ICD-9 chapters\n",
    "icd9_chapter_mapping = {\n",
    "    '001-139': '001-139', # 'Infectious And Parasitic Diseases'\n",
    "    '140-239': '140-239', # 'Neoplasms'\n",
    "    '240-279': '240-279', # 'Endocrine, Nutritional And Metabolic Diseases, And Immunity Disorders'\n",
    "    '280-289': '280-289', # 'Diseases Of The Blood And Blood-Forming Organs'\n",
    "    '290-319': '290-319', # 'Mental Disorders'\n",
    "    '320-389': '320-389', # 'Diseases Of The Nervous System And Sense Organs'\n",
    "    '390-459': '390-459', # 'Diseases Of The Circulatory System'\n",
    "    '460-519': '460-519', # 'Diseases Of The Respiratory System'\n",
    "    '520-579': '520-579', # 'Diseases Of The Digestive System'\n",
    "    '580-629': '580-629', # 'Diseases Of The Genitourinary System'\n",
    "    '630-679': '630-679', # 'Complications Of Pregnancy, Childbirth, And The Puerperium'\n",
    "    '680-709': '680-709', # 'Diseases Of The Skin And Subcutaneous Tissue'\n",
    "    '710-739': '710-739', # 'Diseases Of The Musculoskeletal System And Connective Tissue'\n",
    "    '740-759': '740-759', # 'Congenital Anomalies'\n",
    "    '760-779': '760-779', # 'Certain Conditions Originating In The Perinatal Period'\n",
    "    '780-799': '780-799', # 'Symptoms, Signs, And Ill-Defined Conditions'\n",
    "    '800-999': '800-999', # 'Injury And Poisoning'\n",
    "    'V01-V91': 'V01-V91', # 'Supplementary Classification Of Factors Influencing Health Status And Contact With Health Services'\n",
    "    'E000-E999': 'E000-E999' # 'Supplementary Classification Of External Causes Of Injury And Poisoning'\n",
    "}"
   ]
  },
  {
   "cell_type": "code",
   "execution_count": 37,
   "id": "19df1343-cdc0-47ed-9592-c1f5a2f2070f",
   "metadata": {},
   "outputs": [],
   "source": [
    "# Function to extract the chapter from the code\n",
    "def get_chapter(icd_code):\n",
    "    if icd_code.startswith('E'):\n",
    "        return icd9_chapter_mapping['E000-E999']\n",
    "    elif icd_code.startswith('V'):\n",
    "        return icd9_chapter_mapping['V01-V91']\n",
    "    else:\n",
    "        for range_key, chapter_name in icd9_chapter_mapping.items():\n",
    "            range_start, range_end = map(int, range_key.split('-'))\n",
    "            code_num = int(icd_code.split('.')[0])\n",
    "            if range_start <= code_num <= range_end:\n",
    "                return chapter_name\n",
    "    return 'Other'"
   ]
  },
  {
   "cell_type": "code",
   "execution_count": 38,
   "id": "b5a201e7-5fab-483e-81b2-df28543e19db",
   "metadata": {},
   "outputs": [],
   "source": [
    "# Apply the function to each ICD code columns\n",
    "df_cleaned['diag_1'] = df_cleaned['diag_1'].apply(get_chapter)\n",
    "df_cleaned['diag_2'] = df_cleaned['diag_2'].apply(get_chapter)\n",
    "df_cleaned['diag_3'] = df_cleaned['diag_3'].apply(get_chapter)\n"
   ]
  },
  {
   "cell_type": "code",
   "execution_count": 39,
   "id": "264b4063-a2df-4b1b-a2c8-9117d6f53dc0",
   "metadata": {},
   "outputs": [
    {
     "data": {
      "text/plain": [
       "array(['240-279', '630-679', '001-139', '140-239', '390-459', '460-519',\n",
       "       '800-999', '680-709', '710-739', '520-579', 'V01-V91', '780-799',\n",
       "       '580-629', '290-319', '320-389', '280-289', '740-759', 'E000-E999'],\n",
       "      dtype=object)"
      ]
     },
     "execution_count": 39,
     "metadata": {},
     "output_type": "execute_result"
    }
   ],
   "source": [
    "df_cleaned['diag_1'].unique()"
   ]
  },
  {
   "cell_type": "code",
   "execution_count": 40,
   "id": "c7069a11-c2aa-4913-9560-1eea9dbbe896",
   "metadata": {},
   "outputs": [
    {
     "data": {
      "text/plain": [
       "array(['InternalMedicine', 'Family/GeneralPractice', 'Cardiology',\n",
       "       'Surgery-General', 'Orthopedics', 'Gastroenterology',\n",
       "       'Surgery-Cardiovascular/Thoracic', 'Nephrology',\n",
       "       'Orthopedics-Reconstructive', 'Psychiatry', 'Emergency/Trauma',\n",
       "       'Pulmonology', 'Surgery-Neuro',\n",
       "       'Obsterics&Gynecology-GynecologicOnco', 'ObstetricsandGynecology',\n",
       "       'Pediatrics', 'Hematology/Oncology', 'Otolaryngology',\n",
       "       'Pediatrics-Endocrinology', 'Surgery-Colon&Rectal',\n",
       "       'Endocrinology', 'Urology', 'Pediatrics-CriticalCare',\n",
       "       'Psychiatry-Child/Adolescent', 'Pediatrics-Pulmonology',\n",
       "       'Neurology', 'Anesthesiology-Pediatric', 'Radiology',\n",
       "       'Pediatrics-Hematology-Oncology', 'Podiatry', 'Gynecology',\n",
       "       'Oncology', 'Pediatrics-Neurology', 'Surgery-Plastic',\n",
       "       'Surgery-Thoracic', 'Surgery-PlasticwithinHeadandNeck',\n",
       "       'Psychology', 'Ophthalmology', 'Surgery-Pediatric',\n",
       "       'PhysicalMedicineandRehabilitation', 'InfectiousDiseases',\n",
       "       'Anesthesiology', 'Pediatrics-EmergencyMedicine', 'Rheumatology',\n",
       "       'AllergyandImmunology', 'Surgery-Maxillofacial',\n",
       "       'Pediatrics-InfectiousDiseases', 'Pediatrics-AllergyandImmunology',\n",
       "       'Dentistry', 'Surgeon', 'Surgery-Vascular', 'Osteopath',\n",
       "       'Psychiatry-Addictive', 'Surgery-Cardiovascular',\n",
       "       'PhysicianNotFound', 'Hematology', 'Proctology', 'Obstetrics',\n",
       "       'SurgicalSpecialty', 'Radiologist', 'Pathology', 'Dermatology',\n",
       "       'SportsMedicine', 'Speech', 'Hospitalist', 'OutreachServices',\n",
       "       'Cardiology-Pediatric', 'Perinatology', 'Neurophysiology',\n",
       "       'Endocrinology-Metabolism', 'DCPTEAM', 'Resident'], dtype=object)"
      ]
     },
     "execution_count": 40,
     "metadata": {},
     "output_type": "execute_result"
    }
   ],
   "source": [
    "df_cleaned['medical_specialty'].unique()"
   ]
  },
  {
   "cell_type": "code",
   "execution_count": 41,
   "id": "af617ace-b375-43c0-a6c2-e6a39b41be48",
   "metadata": {},
   "outputs": [],
   "source": [
    "# Define the grouping for medical_specialty column\n",
    "grouping = {\n",
    "    'Primary Care': [\n",
    "        'InternalMedicine', 'Family/GeneralPractice', 'Pediatrics',\n",
    "        'ObstetricsandGynecology', 'Pediatrics-Endocrinology',\n",
    "        'Pediatrics-CriticalCare', 'Pediatrics-Pulmonology',\n",
    "        'Pediatrics-Neurology', 'Pediatrics-EmergencyMedicine',\n",
    "        'Pediatrics-InfectiousDiseases', 'Pediatrics-AllergyandImmunology',\n",
    "        'Pediatrics-Hematology-Oncology', 'Obstetrics'\n",
    "    ],\n",
    "    'Surgery': [\n",
    "        'Surgery-General', 'Orthopedics', 'Surgery-Cardiovascular/Thoracic',\n",
    "        'Surgery-Neuro', 'Surgery-Colon&Rectal', 'Surgery-Plastic',\n",
    "        'Surgery-Thoracic', 'Surgery-PlasticwithinHeadandNeck',\n",
    "        'Surgery-Pediatric', 'Surgery-Maxillofacial', 'Surgery-Vascular',\n",
    "        'Surgery-Cardiovascular', 'Orthopedics-Reconstructive'\n",
    "    ],\n",
    "    'Specialized Medicine': [\n",
    "        'Cardiology', 'Gastroenterology', 'Nephrology', 'Psychiatry',\n",
    "        'Emergency/Trauma', 'Pulmonology', 'Hematology/Oncology',\n",
    "        'Otolaryngology', 'Endocrinology', 'Urology',\n",
    "        'Psychiatry-Child/Adolescent', 'Neurology', 'Radiology',\n",
    "        'Podiatry', 'Gynecology', 'Oncology', 'Psychology',\n",
    "        'Ophthalmology', 'PhysicalMedicineandRehabilitation',\n",
    "        'InfectiousDiseases', 'Rheumatology', 'AllergyandImmunology',\n",
    "        'Hematology', 'Proctology', 'Pathology', 'Dermatology',\n",
    "        'SportsMedicine', 'Cardiology-Pediatric', 'Neurophysiology',\n",
    "        'Endocrinology-Metabolism', 'Obsterics&Gynecology-GynecologicOnco'\n",
    "    ],\n",
    "    'Other Services': [\n",
    "        'Anesthesiology', 'Anesthesiology-Pediatric', 'Dentistry',\n",
    "        'Surgeon', 'Osteopath', 'Psychiatry-Addictive',\n",
    "        'PhysicianNotFound', 'SurgicalSpecialty', 'Radiologist',\n",
    "        'Speech', 'Hospitalist', 'OutreachServices', 'Perinatology',\n",
    "        'DCPTEAM', 'Resident'\n",
    "    ]\n",
    "}"
   ]
  },
  {
   "cell_type": "code",
   "execution_count": 42,
   "id": "a00f7216-d601-414a-a9e4-a62821f09e48",
   "metadata": {},
   "outputs": [],
   "source": [
    "# Function to categorize each specialty\n",
    "def categorize_specialty(specialty):\n",
    "    for group, specialties in grouping.items():\n",
    "        if specialty in specialties:\n",
    "            return group\n",
    "    return specialty"
   ]
  },
  {
   "cell_type": "code",
   "execution_count": 43,
   "id": "bc98c921-91f6-4298-b959-8f9c8614af72",
   "metadata": {},
   "outputs": [],
   "source": [
    "# Apply the categorization function to the medical_specialty column\n",
    "df_cleaned['medical_specialty'] = df_cleaned['medical_specialty'].apply(categorize_specialty)"
   ]
  },
  {
   "cell_type": "code",
   "execution_count": 44,
   "id": "358b8f78-fe77-4cd0-8bb5-677d1fbebfc0",
   "metadata": {},
   "outputs": [
    {
     "data": {
      "text/plain": [
       "array(['Primary Care', 'Specialized Medicine', 'Surgery',\n",
       "       'Other Services'], dtype=object)"
      ]
     },
     "execution_count": 44,
     "metadata": {},
     "output_type": "execute_result"
    }
   ],
   "source": [
    "df_cleaned['medical_specialty'].unique()"
   ]
  },
  {
   "cell_type": "code",
   "execution_count": 45,
   "id": "b607d578-c879-4589-b421-27f0e1f0f204",
   "metadata": {},
   "outputs": [],
   "source": [
    "# Dropping 'encounter_id,  patient_nbr, examide and citoglipton columns.\n",
    "df_cleaned.drop(['examide', 'citoglipton'], axis=1, inplace=True)"
   ]
  },
  {
   "cell_type": "code",
   "execution_count": 46,
   "id": "7da3b347",
   "metadata": {},
   "outputs": [],
   "source": [
    "# Encoding readmitted column: '<30' = 0, '>30' = 1, 'NO' = 2\n",
    "df_cleaned['readmitted'] = df_cleaned['readmitted'].map({'<30':0, '>30':0, 'NO':1})"
   ]
  },
  {
   "cell_type": "code",
   "execution_count": 47,
   "id": "97afbe4b-1285-4bed-87c5-104f72e30505",
   "metadata": {},
   "outputs": [
    {
     "name": "stdout",
     "output_type": "stream",
     "text": [
      "<class 'pandas.core.frame.DataFrame'>\n",
      "Int64Index: 100241 entries, 1 to 101765\n",
      "Data columns (total 45 columns):\n",
      " #   Column                    Non-Null Count   Dtype \n",
      "---  ------                    --------------   ----- \n",
      " 0   encounter_id              100241 non-null  int64 \n",
      " 1   patient_nbr               100241 non-null  int64 \n",
      " 2   race                      100241 non-null  object\n",
      " 3   gender                    100241 non-null  int64 \n",
      " 4   age                       100241 non-null  int64 \n",
      " 5   admission_type_id         100241 non-null  int64 \n",
      " 6   discharge_disposition_id  100241 non-null  int64 \n",
      " 7   admission_source_id       100241 non-null  int64 \n",
      " 8   time_in_hospital          100241 non-null  int64 \n",
      " 9   payer_code                100241 non-null  object\n",
      " 10  medical_specialty         100241 non-null  object\n",
      " 11  num_lab_procedures        100241 non-null  int64 \n",
      " 12  num_procedures            100241 non-null  int64 \n",
      " 13  num_medications           100241 non-null  int64 \n",
      " 14  number_outpatient         100241 non-null  int64 \n",
      " 15  number_emergency          100241 non-null  int64 \n",
      " 16  number_inpatient          100241 non-null  int64 \n",
      " 17  diag_1                    100241 non-null  object\n",
      " 18  diag_2                    100241 non-null  object\n",
      " 19  diag_3                    100241 non-null  object\n",
      " 20  number_diagnoses          100241 non-null  int64 \n",
      " 21  metformin                 100241 non-null  object\n",
      " 22  repaglinide               100241 non-null  object\n",
      " 23  nateglinide               100241 non-null  object\n",
      " 24  chlorpropamide            100241 non-null  object\n",
      " 25  glimepiride               100241 non-null  object\n",
      " 26  acetohexamide             100241 non-null  int64 \n",
      " 27  glipizide                 100241 non-null  object\n",
      " 28  glyburide                 100241 non-null  object\n",
      " 29  tolbutamide               100241 non-null  int64 \n",
      " 30  pioglitazone              100241 non-null  object\n",
      " 31  rosiglitazone             100241 non-null  object\n",
      " 32  acarbose                  100241 non-null  object\n",
      " 33  miglitol                  100241 non-null  object\n",
      " 34  troglitazone              100241 non-null  int64 \n",
      " 35  tolazamide                100241 non-null  object\n",
      " 36  insulin                   100241 non-null  object\n",
      " 37  glyburide-metformin       100241 non-null  object\n",
      " 38  glipizide-metformin       100241 non-null  int64 \n",
      " 39  glimepiride-pioglitazone  100241 non-null  int64 \n",
      " 40  metformin-rosiglitazone   100241 non-null  int64 \n",
      " 41  metformin-pioglitazone    100241 non-null  int64 \n",
      " 42  change                    100241 non-null  int64 \n",
      " 43  diabetesMed               100241 non-null  int64 \n",
      " 44  readmitted                100241 non-null  int64 \n",
      "dtypes: int64(25), object(20)\n",
      "memory usage: 35.2+ MB\n"
     ]
    }
   ],
   "source": [
    "df_cleaned.info()"
   ]
  },
  {
   "cell_type": "code",
   "execution_count": 48,
   "id": "01cefaeb",
   "metadata": {},
   "outputs": [],
   "source": [
    "dtrain= pd.get_dummies(df_cleaned, drop_first=True)\n",
    "import xgboost as xgb\n",
    "from sklearn import metrics\n",
    "from sklearn.model_selection import GridSearchCV \n",
    "train = dtrain\n",
    "target = 'readmitted'\n",
    "IDcol1 = 'encounter_id'\n",
    "IDcol2 = 'patient_nbr'"
   ]
  },
  {
   "cell_type": "code",
   "execution_count": 49,
   "id": "e9580a84",
   "metadata": {},
   "outputs": [
    {
     "name": "stdout",
     "output_type": "stream",
     "text": [
      "<class 'pandas.core.frame.DataFrame'>\n",
      "Int64Index: 100241 entries, 1 to 101765\n",
      "Columns: 140 entries, encounter_id to glyburide-metformin_Up\n",
      "dtypes: int64(25), uint8(115)\n",
      "memory usage: 30.9 MB\n"
     ]
    }
   ],
   "source": [
    "dtrain.info()"
   ]
  },
  {
   "cell_type": "code",
   "execution_count": 50,
   "id": "36b609b2",
   "metadata": {},
   "outputs": [],
   "source": [
    "def modelfit(alg, dtrain, predictors,useTrainCV=True, cv_folds=5, early_stopping_rounds=50):\n",
    "    \n",
    "    if useTrainCV:\n",
    "        xgb_param = alg.get_xgb_params()\n",
    "        xgtrain = xgb.DMatrix(dtrain[predictors].values, label=dtrain[target].values)\n",
    "        cvresult = xgb.cv(xgb_param, xgtrain, num_boost_round=alg.get_params()['n_estimators'],\n",
    "                          nfold=cv_folds,metrics='auc', early_stopping_rounds=early_stopping_rounds)\n",
    "        alg.set_params(n_estimators=cvresult.shape[0])\n",
    "    \n",
    "    #Fit the algorithm on data\n",
    "    alg.fit(dtrain[predictors], dtrain['readmitted'])\n",
    "        \n",
    "    #Predict training set:\n",
    "    dtrain_predictions = alg.predict(dtrain[predictors])\n",
    "    dtrain_predprob = alg.predict_proba(dtrain[predictors])[:,1]\n",
    "        \n",
    "    #Print model report:\n",
    "    print (\"\\nModel Report\")\n",
    "    print (\"Accuracy : %.4g\" % metrics.accuracy_score(dtrain['readmitted'].values, dtrain_predictions))\n",
    "    print (\"AUC Score (Train): %f\" % metrics.roc_auc_score(dtrain['readmitted'], dtrain_predprob))\n",
    "                    \n",
    "    # Assuming 'alg' is your trained model and 'get_booster().get_fscore()' returns a dictionary of feature importances\n",
    "    feat_imp = pd.Series(alg.get_booster().get_fscore()).sort_values(ascending=False)\n",
    "\n",
    "    # Set the figure size to make it wider\n",
    "    plt.figure(figsize=(16, 6))\n",
    "\n",
    "    # Create a bar plot\n",
    "    feat_imp.plot(kind='bar', title='Feature Importances')\n",
    "\n",
    "    # Set the y-axis label\n",
    "    plt.ylabel('Feature Importance Score')\n",
    "\n",
    "    # Rotate the x-axis labels for better readability\n",
    "    plt.xticks(rotation=90)\n",
    "\n",
    "    # Adjust the layout to prevent labels from overlapping\n",
    "    plt.tight_layout()\n",
    "\n",
    "    # Show the plot\n",
    "    plt.show()"
   ]
  },
  {
   "cell_type": "code",
   "execution_count": 51,
   "id": "ed4ee088",
   "metadata": {},
   "outputs": [],
   "source": [
    "from xgboost import XGBClassifier"
   ]
  },
  {
   "cell_type": "code",
   "execution_count": 52,
   "id": "993b1138",
   "metadata": {},
   "outputs": [],
   "source": [
    "predictors = [x for x in train.columns if x not in [target, IDcol1, IDcol2]]\n",
    "xgb2 = XGBClassifier(\n",
    "    learning_rate=0.1,\n",
    "    n_estimators=1000,\n",
    "    max_depth=5,\n",
    "    min_child_weight=1,\n",
    "    gamma=0,\n",
    "    subsample=0.8,\n",
    "    colsample_bytree=0.8,\n",
    "    objective='binary:logistic',\n",
    "    eval_metric='auc',\n",
    "    nthread=4,\n",
    "    scale_pos_weight=1,\n",
    "    seed=27\n",
    ")"
   ]
  },
  {
   "cell_type": "code",
   "execution_count": 53,
   "id": "2805fe68",
   "metadata": {},
   "outputs": [],
   "source": [
    "import matplotlib.pyplot as plt"
   ]
  },
  {
   "cell_type": "code",
   "execution_count": 54,
   "id": "752cef84",
   "metadata": {},
   "outputs": [
    {
     "name": "stdout",
     "output_type": "stream",
     "text": [
      "\n",
      "Model Report\n",
      "Accuracy : 0.6748\n",
      "AUC Score (Train): 0.741165\n"
     ]
    },
    {
     "data": {
      "image/png": "[encoded data removed]",
      "text/plain": [
       "<Figure size 1152x432 with 1 Axes>"
      ]
     },
     "metadata": {
      "needs_background": "light"
     },
     "output_type": "display_data"
    }
   ],
   "source": [
    "modelfit(xgb2, train, predictors)"
   ]
  },
  {
   "cell_type": "code",
   "execution_count": 55,
   "id": "ac6c21ea",
   "metadata": {},
   "outputs": [
    {
     "data": {
      "text/plain": [
       "({'max_depth': 5, 'min_child_weight': 5}, 0.6900277594414247)"
      ]
     },
     "execution_count": 55,
     "metadata": {},
     "output_type": "execute_result"
    }
   ],
   "source": [
    "param_test1 = { 'max_depth':list(range(3,10,2)), 'min_child_weight':list(range(1,6,2))}\n",
    "gsearch1 = GridSearchCV(estimator = XGBClassifier(learning_rate =0.1, n_estimators=140, max_depth=5,\n",
    "                                                  min_child_weight=1, gamma=0, subsample=0.8, colsample_bytree=0.8,\n",
    "                                                  objective= 'binary:logistic', nthread=4, scale_pos_weight=1, seed=27), \n",
    "                        param_grid = param_test1, scoring='roc_auc', n_jobs=4, refit=False, cv=5)\n",
    "gsearch1.fit(train[predictors],train[target])\n",
    "gsearch1.best_params_, gsearch1.best_score_"
   ]
  },
  {
   "cell_type": "code",
   "execution_count": 56,
   "id": "68157a2e",
   "metadata": {},
   "outputs": [
    {
     "data": {
      "text/plain": [
       "({'max_depth': 8, 'min_child_weight': 6}, 0.6871730823076321)"
      ]
     },
     "execution_count": 56,
     "metadata": {},
     "output_type": "execute_result"
    }
   ],
   "source": [
    "param_test2 = { 'max_depth':[8,9,10], 'min_child_weight':[4,5,6] }\n",
    "gsearch2 = GridSearchCV(estimator = XGBClassifier( learning_rate=0.1, n_estimators=140, max_depth=5,\n",
    " min_child_weight=2, gamma=0, subsample=0.8, colsample_bytree=0.8,\n",
    " objective= 'binary:logistic', nthread=4, scale_pos_weight=1,seed=27), \n",
    " param_grid = param_test2, scoring='roc_auc',n_jobs=4,refit=False, cv=5)\n",
    "gsearch2.fit(train[predictors],train[target])\n",
    "gsearch2.best_params_, gsearch2.best_score_"
   ]
  },
  {
   "cell_type": "code",
   "execution_count": 57,
   "id": "626cb064",
   "metadata": {},
   "outputs": [
    {
     "data": {
      "text/plain": [
       "({'min_child_weight': 8}, 0.6877227103562941)"
      ]
     },
     "execution_count": 57,
     "metadata": {},
     "output_type": "execute_result"
    }
   ],
   "source": [
    "param_test2b = {\n",
    " 'min_child_weight':[6,8,10,12]\n",
    "}\n",
    "gsearch2b = GridSearchCV(estimator = XGBClassifier( learning_rate=0.1, n_estimators=140, max_depth=8,\n",
    " min_child_weight=2, gamma=0, subsample=0.8, colsample_bytree=0.8,\n",
    " objective= 'binary:logistic', nthread=4, scale_pos_weight=1,seed=27), \n",
    " param_grid = param_test2b, scoring='roc_auc',n_jobs=4,refit=False, cv=5)\n",
    "gsearch2b.fit(train[predictors],train[target])\n",
    "gsearch2b.best_params_, gsearch2b.best_score_"
   ]
  },
  {
   "cell_type": "code",
   "execution_count": 58,
   "id": "98b363bb",
   "metadata": {},
   "outputs": [
    {
     "data": {
      "text/plain": [
       "({'gamma': 0.2}, 0.6876205486040817)"
      ]
     },
     "execution_count": 58,
     "metadata": {},
     "output_type": "execute_result"
    }
   ],
   "source": [
    "param_test3 = {\n",
    " 'gamma':[i/10.0 for i in range(0,5)]\n",
    "}\n",
    "gsearch3 = GridSearchCV(estimator = XGBClassifier( learning_rate =0.1, n_estimators=140, max_depth=8,\n",
    " min_child_weight=6, gamma=0, subsample=0.8, colsample_bytree=0.8,\n",
    " objective= 'binary:logistic', nthread=4, scale_pos_weight=1,seed=27), \n",
    " param_grid = param_test3, scoring='roc_auc',n_jobs=4,refit=False, cv=5)\n",
    "gsearch3.fit(train[predictors],train[target])\n",
    "gsearch3.best_params_, gsearch3.best_score_"
   ]
  },
  {
   "cell_type": "code",
   "execution_count": 59,
   "id": "7000d4d5",
   "metadata": {},
   "outputs": [
    {
     "name": "stdout",
     "output_type": "stream",
     "text": [
      "\n",
      "Model Report\n",
      "Accuracy : 0.6931\n",
      "AUC Score (Train): 0.765555\n"
     ]
    },
    {
     "data": {
      "image/png": "[encoded data removed]",
      "text/plain": [
       "<Figure size 1152x432 with 1 Axes>"
      ]
     },
     "metadata": {
      "needs_background": "light"
     },
     "output_type": "display_data"
    }
   ],
   "source": [
    "predictors = [x for x in train.columns if x not in [target, IDcol1, IDcol2]]\n",
    "xgb2 = XGBClassifier(learning_rate =0.1, n_estimators=1000, max_depth=8, min_child_weight=6, gamma=0.1, subsample=0.9,\n",
    "                     colsample_bytree=0.95,reg_alpha=2, objective= 'binary:logistic', nthread=4, scale_pos_weight=1, seed=27)\n",
    "modelfit(xgb2, train, predictors)"
   ]
  },
  {
   "cell_type": "code",
   "execution_count": null,
   "id": "14832f4c",
   "metadata": {},
   "outputs": [],
   "source": []
  }
 ],
 "metadata": {
  "kernelspec": {
   "display_name": "Python 3",
   "language": "python",
   "name": "python3"
  },
  "language_info": {
   "codemirror_mode": {
    "name": "ipython",
    "version": 3
   },
   "file_extension": ".py",
   "mimetype": "text/x-python",
   "name": "python",
   "nbconvert_exporter": "python",
   "pygments_lexer": "ipython3",
   "version": "3.8.8"
  }
 },
 "nbformat": 4,
 "nbformat_minor": 5
}
